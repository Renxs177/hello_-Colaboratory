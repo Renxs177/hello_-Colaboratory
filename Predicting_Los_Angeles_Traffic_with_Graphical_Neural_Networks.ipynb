{
  "nbformat": 4,
  "nbformat_minor": 0,
  "metadata": {
    "colab": {
      "name": "Predicting Los Angeles Traffic with Graphical Neural Networks",
      "provenance": [],
      "collapsed_sections": [],
      "machine_shape": "hm",
      "toc_visible": true,
      "include_colab_link": true
    },
    "kernelspec": {
      "display_name": "Python 3",
      "language": "python",
      "name": "python3"
    },
    "language_info": {
      "codemirror_mode": {
        "name": "ipython",
        "version": 3
      },
      "file_extension": ".py",
      "mimetype": "text/x-python",
      "name": "python",
      "nbconvert_exporter": "python",
      "pygments_lexer": "ipython3",
      "version": "3.7.3"
    },
    "accelerator": "GPU"
  },
  "cells": [
    {
      "cell_type": "markdown",
      "metadata": {
        "id": "view-in-github",
        "colab_type": "text"
      },
      "source": [
        "<a href=\"https://colab.research.google.com/github/Renxs177/hello_-Colaboratory/blob/main/Predicting_Los_Angeles_Traffic_with_Graphical_Neural_Networks.ipynb\" target=\"_parent\"><img src=\"https://colab.research.google.com/assets/colab-badge.svg\" alt=\"Open In Colab\"/></a>"
      ]
    },
    {
      "cell_type": "markdown",
      "metadata": {
        "id": "XuXWJLEm2UWS"
      },
      "source": [
        "# Predicting Los Angeles Traffic with Graphical Neural Networks\n",
        "by Julie Wang, Amelia Woodward, Tracy Cai"
      ]
    },
    {
      "cell_type": "markdown",
      "metadata": {
        "id": "GxG3DeP7HVLn"
      },
      "source": [
        "This notebook accompanies our Medium post on predicting LA Traffic with GNNs. Specifically, it deploys our implementation of the ST-GAT presented by Zhang et al n \"Spatial-Temporal Graph Attention Networks: A Deep Learning Approach for Traffic Forecasting\".\n",
        "\n",
        "This code can also be viewed as a github repo in https://github.com/jswang/cs224w_traffic_prediction. \n",
        "\n",
        "We will walk through the following steps: \n",
        "1.   Installation and Setup\n",
        "2.   Creating a dataloader\n",
        "3.   Building the Model\n",
        "4.   Creating train and evaluation functions\n",
        "5.   Train the model\n",
        "6.   Test the model\n",
        "\n"
      ]
    },
    {
      "cell_type": "markdown",
      "metadata": {
        "id": "67gOQITlCNQi"
      },
      "source": [
        "## Installation and setup"
      ]
    },
    {
      "cell_type": "markdown",
      "metadata": {
        "id": "MSaetj53YnT6"
      },
      "source": [
        "We recommend using a GPU for running our project.\n",
        "\n",
        "Please click `Runtime` and then `Change runtime type`. Then set the `hardware accelerator` to **GPU**."
      ]
    },
    {
      "cell_type": "code",
      "source": [
        "import torch\n",
        "device = 'cuda' if torch.cuda.is_available() else 'cpu'\n",
        "print(f\"Using {device}\")"
      ],
      "metadata": {
        "colab": {
          "base_uri": "https://localhost:8080/"
        },
        "id": "OraOHb9w5-o_",
        "outputId": "ce52b631-c4ca-4475-9976-176955a69901"
      },
      "execution_count": null,
      "outputs": [
        {
          "output_type": "stream",
          "name": "stdout",
          "text": [
            "Using cuda\n"
          ]
        }
      ]
    },
    {
      "cell_type": "markdown",
      "metadata": {
        "id": "x207Q4T_C_w7"
      },
      "source": [
        "Install PyTorch, PyG, and other necessary python libraries"
      ]
    },
    {
      "cell_type": "code",
      "metadata": {
        "colab": {
          "base_uri": "https://localhost:8080/"
        },
        "id": "J_m9l6OYCQZP",
        "outputId": "d397dd74-c4b3-4c96-cbac-32717ca21c85"
      },
      "source": [
        "# Install torch geometric\n",
        "!pip install torch-scatter -f https://pytorch-geometric.com/whl/torch-1.10.0+cu111.html\n",
        "!pip install torch-sparse -f https://pytorch-geometric.com/whl/torch-1.10.0+cu111.html\n",
        "!pip install torch-geometric\n",
        "!pip install -q git+https://github.com/snap-stanford/deepsnap.git\n",
        "!pip install wget"
      ],
      "execution_count": null,
      "outputs": [
        {
          "output_type": "stream",
          "name": "stdout",
          "text": [
            "Looking in links: https://pytorch-geometric.com/whl/torch-1.10.0+cu111.html\n",
            "Collecting torch-scatter\n",
            "  Downloading https://data.pyg.org/whl/torch-1.10.0%2Bcu113/torch_scatter-2.0.9-cp37-cp37m-linux_x86_64.whl (7.9 MB)\n",
            "\u001b[K     |████████████████████████████████| 7.9 MB 11.7 MB/s \n",
            "\u001b[?25hInstalling collected packages: torch-scatter\n",
            "Successfully installed torch-scatter-2.0.9\n",
            "Looking in links: https://pytorch-geometric.com/whl/torch-1.10.0+cu111.html\n",
            "Collecting torch-sparse\n",
            "  Downloading https://data.pyg.org/whl/torch-1.10.0%2Bcu113/torch_sparse-0.6.12-cp37-cp37m-linux_x86_64.whl (3.5 MB)\n",
            "\u001b[K     |████████████████████████████████| 3.5 MB 8.7 MB/s \n",
            "\u001b[?25hRequirement already satisfied: scipy in /usr/local/lib/python3.7/dist-packages (from torch-sparse) (1.4.1)\n",
            "Requirement already satisfied: numpy>=1.13.3 in /usr/local/lib/python3.7/dist-packages (from scipy->torch-sparse) (1.19.5)\n",
            "Installing collected packages: torch-sparse\n",
            "Successfully installed torch-sparse-0.6.12\n",
            "Collecting torch-geometric\n",
            "  Downloading torch_geometric-2.0.2.tar.gz (325 kB)\n",
            "\u001b[K     |████████████████████████████████| 325 kB 12.7 MB/s \n",
            "\u001b[?25hRequirement already satisfied: numpy in /usr/local/lib/python3.7/dist-packages (from torch-geometric) (1.19.5)\n",
            "Requirement already satisfied: tqdm in /usr/local/lib/python3.7/dist-packages (from torch-geometric) (4.62.3)\n",
            "Requirement already satisfied: scipy in /usr/local/lib/python3.7/dist-packages (from torch-geometric) (1.4.1)\n",
            "Requirement already satisfied: networkx in /usr/local/lib/python3.7/dist-packages (from torch-geometric) (2.6.3)\n",
            "Requirement already satisfied: scikit-learn in /usr/local/lib/python3.7/dist-packages (from torch-geometric) (1.0.1)\n",
            "Requirement already satisfied: requests in /usr/local/lib/python3.7/dist-packages (from torch-geometric) (2.23.0)\n",
            "Requirement already satisfied: pandas in /usr/local/lib/python3.7/dist-packages (from torch-geometric) (1.1.5)\n",
            "Collecting rdflib\n",
            "  Downloading rdflib-6.0.2-py3-none-any.whl (407 kB)\n",
            "\u001b[K     |████████████████████████████████| 407 kB 45.7 MB/s \n",
            "\u001b[?25hRequirement already satisfied: googledrivedownloader in /usr/local/lib/python3.7/dist-packages (from torch-geometric) (0.4)\n",
            "Requirement already satisfied: jinja2 in /usr/local/lib/python3.7/dist-packages (from torch-geometric) (2.11.3)\n",
            "Requirement already satisfied: pyparsing in /usr/local/lib/python3.7/dist-packages (from torch-geometric) (3.0.6)\n",
            "Collecting yacs\n",
            "  Downloading yacs-0.1.8-py3-none-any.whl (14 kB)\n",
            "Requirement already satisfied: PyYAML in /usr/local/lib/python3.7/dist-packages (from torch-geometric) (3.13)\n",
            "Requirement already satisfied: MarkupSafe>=0.23 in /usr/local/lib/python3.7/dist-packages (from jinja2->torch-geometric) (2.0.1)\n",
            "Requirement already satisfied: pytz>=2017.2 in /usr/local/lib/python3.7/dist-packages (from pandas->torch-geometric) (2018.9)\n",
            "Requirement already satisfied: python-dateutil>=2.7.3 in /usr/local/lib/python3.7/dist-packages (from pandas->torch-geometric) (2.8.2)\n",
            "Requirement already satisfied: six>=1.5 in /usr/local/lib/python3.7/dist-packages (from python-dateutil>=2.7.3->pandas->torch-geometric) (1.15.0)\n",
            "Requirement already satisfied: setuptools in /usr/local/lib/python3.7/dist-packages (from rdflib->torch-geometric) (57.4.0)\n",
            "Collecting isodate\n",
            "  Downloading isodate-0.6.0-py2.py3-none-any.whl (45 kB)\n",
            "\u001b[K     |████████████████████████████████| 45 kB 3.3 MB/s \n",
            "\u001b[?25hRequirement already satisfied: chardet<4,>=3.0.2 in /usr/local/lib/python3.7/dist-packages (from requests->torch-geometric) (3.0.4)\n",
            "Requirement already satisfied: urllib3!=1.25.0,!=1.25.1,<1.26,>=1.21.1 in /usr/local/lib/python3.7/dist-packages (from requests->torch-geometric) (1.24.3)\n",
            "Requirement already satisfied: idna<3,>=2.5 in /usr/local/lib/python3.7/dist-packages (from requests->torch-geometric) (2.10)\n",
            "Requirement already satisfied: certifi>=2017.4.17 in /usr/local/lib/python3.7/dist-packages (from requests->torch-geometric) (2021.10.8)\n",
            "Requirement already satisfied: threadpoolctl>=2.0.0 in /usr/local/lib/python3.7/dist-packages (from scikit-learn->torch-geometric) (3.0.0)\n",
            "Requirement already satisfied: joblib>=0.11 in /usr/local/lib/python3.7/dist-packages (from scikit-learn->torch-geometric) (1.1.0)\n",
            "Building wheels for collected packages: torch-geometric\n",
            "  Building wheel for torch-geometric (setup.py) ... \u001b[?25l\u001b[?25hdone\n",
            "  Created wheel for torch-geometric: filename=torch_geometric-2.0.2-py3-none-any.whl size=535570 sha256=b4dda1d28d2b58ac7beb9ac612d5cc047638b770b340f025f3439e3302370225\n",
            "  Stored in directory: /root/.cache/pip/wheels/3f/08/13/2321517088bb2e95bfd0e45033bb9c923189e5b2078e0be4ef\n",
            "Successfully built torch-geometric\n",
            "Installing collected packages: isodate, yacs, rdflib, torch-geometric\n",
            "Successfully installed isodate-0.6.0 rdflib-6.0.2 torch-geometric-2.0.2 yacs-0.1.8\n",
            "  Building wheel for deepsnap (setup.py) ... \u001b[?25l\u001b[?25hdone\n",
            "Collecting wget\n",
            "  Downloading wget-3.2.zip (10 kB)\n",
            "Building wheels for collected packages: wget\n",
            "  Building wheel for wget (setup.py) ... \u001b[?25l\u001b[?25hdone\n",
            "  Created wheel for wget: filename=wget-3.2-py3-none-any.whl size=9672 sha256=2e4daf7d0b36664da147854d5ab12b68c7c5c9776a14d9a6ad580a7da2392735\n",
            "  Stored in directory: /root/.cache/pip/wheels/a1/b6/7c/0e63e34eb06634181c63adacca38b79ff8f35c37e3c13e3c02\n",
            "Successfully built wget\n",
            "Installing collected packages: wget\n",
            "Successfully installed wget-3.2\n"
          ]
        }
      ]
    },
    {
      "cell_type": "markdown",
      "source": [
        "Mount google for output directories"
      ],
      "metadata": {
        "id": "Ok7A5EQM6VEU"
      }
    },
    {
      "cell_type": "code",
      "metadata": {
        "colab": {
          "base_uri": "https://localhost:8080/"
        },
        "id": "PRfgbfTjCRD_",
        "outputId": "f5af7c3b-fa3c-496e-dc39-41d796bcc330"
      },
      "source": [
        "from google.colab import drive\n",
        "drive.mount('/content/drive', force_remount=True)\n",
        "%cd '/content/'\n",
        "!git clone https://github.com/jswang/stgat_traffic_prediction.git\n",
        "%cd stgat_traffic_prediction"
      ],
      "execution_count": null,
      "outputs": [
        {
          "output_type": "stream",
          "name": "stdout",
          "text": [
            "Mounted at /content/drive\n",
            "/content\n",
            "Cloning into 'stgat_traffic_prediction'...\n",
            "remote: Enumerating objects: 693, done.\u001b[K\n",
            "remote: Counting objects: 100% (693/693), done.\u001b[K\n",
            "remote: Compressing objects: 100% (369/369), done.\u001b[K\n",
            "remote: Total 693 (delta 369), reused 634 (delta 311), pack-reused 0\u001b[K\n",
            "Receiving objects: 100% (693/693), 22.98 MiB | 14.01 MiB/s, done.\n",
            "Resolving deltas: 100% (369/369), done.\n",
            "/content/stgat_traffic_prediction\n"
          ]
        }
      ]
    },
    {
      "cell_type": "markdown",
      "source": [
        "## Creating a Dataloader\n",
        "Now, we create a dataloader which will process data from `.csv` files into a PyTorch Geometric dataset. "
      ],
      "metadata": {
        "id": "nqOWp_S591MB"
      }
    },
    {
      "cell_type": "code",
      "source": [
        "import torch\n",
        "import numpy as np\n",
        "import pandas as pd\n",
        "import os\n",
        "from torch_geometric.data import InMemoryDataset, Data\n",
        "from shutil import copyfile\n",
        "\n",
        "\n",
        "def distance_to_weight(W, sigma2=0.1, epsilon=0.5, gat_version=False):\n",
        "    \"\"\"\"\n",
        "    Given distances between all nodes, convert into a weight matrix\n",
        "    :param W distances\n",
        "    :param sigma2 User configurable parameter to adjust sparsity of matrix\n",
        "    :param epsilon User configurable parameter to adjust sparsity of matrix\n",
        "    :param gat_version If true, use 0/1 weights with self loops. Otherwise, use float\n",
        "    \"\"\"\n",
        "    n = W.shape[0]\n",
        "    W = W / 10000.\n",
        "    W2, W_mask = W * W, np.ones([n, n]) - np.identity(n)\n",
        "    # refer to Eq.10\n",
        "    W = np.exp(-W2 / sigma2) * (np.exp(-W2 / sigma2) >= epsilon) * W_mask\n",
        "\n",
        "    # If using the gat version of this, round to 0/1 and include self loops\n",
        "    if gat_version:\n",
        "        W[W>0] = 1\n",
        "        W += np.identity(n)\n",
        "\n",
        "    return W\n",
        "\n",
        "class TrafficDataset(InMemoryDataset):\n",
        "    \"\"\"\n",
        "    Dataset for Graph Neural Networks.\n",
        "    \"\"\"\n",
        "    def __init__(self, config, W, root='', transform=None, pre_transform=None):\n",
        "        self.config = config\n",
        "        self.W = W\n",
        "        super().__init__(root, transform, pre_transform)\n",
        "        self.data, self.slices, self.n_node, self.mean, self.std_dev = torch.load(self.processed_paths[0])\n",
        "\n",
        "    @property\n",
        "    def raw_file_names(self):\n",
        "        return [os.path.join(self.raw_dir, 'PeMSD7_V_228.csv')]\n",
        "\n",
        "    @property\n",
        "    def processed_file_names(self):\n",
        "        return ['./data.pt']\n",
        "\n",
        "    def download(self):\n",
        "        copyfile('./dataset/PeMSD7_V_228.csv', os.path.join(self.raw_dir, 'PeMSD7_V_228.csv'))\n",
        "\n",
        "    def process(self):\n",
        "        \"\"\"\n",
        "        Process the raw datasets into saved .pt dataset for later use.\n",
        "        Note that any self.fields here wont exist if loading straight from the .pt file\n",
        "        \"\"\"\n",
        "        # Data Preprocessing and loading\n",
        "        data = pd.read_csv(self.raw_file_names[0], header=None).values\n",
        "        # Technically using the validation and test datasets here, but it's fine, would normally get the\n",
        "        # mean and std_dev from a large dataset\n",
        "        mean =  np.mean(data)\n",
        "        std_dev = np.std(data)\n",
        "        data = z_score(data, np.mean(data), np.std(data))\n",
        "\n",
        "        _, n_node = data.shape\n",
        "        n_window = self.config['N_PRED'] + self.config['N_HIST']\n",
        "\n",
        "        # manipulate nxn matrix into 2xnum_edges\n",
        "        edge_index = torch.zeros((2, n_node**2), dtype=torch.long)\n",
        "        # create an edge_attr matrix with our weights  (num_edges x 1) --> our edge features are dim 1\n",
        "        edge_attr = torch.zeros((n_node**2, 1))\n",
        "        num_edges = 0\n",
        "        for i in range(n_node):\n",
        "            for j in range(n_node):\n",
        "                if self.W[i, j] != 0.:\n",
        "                    edge_index[0, num_edges] = i\n",
        "                    edge_index[1, num_edges] = j\n",
        "                    edge_attr[num_edges] = self.W[i, j]\n",
        "                    num_edges += 1\n",
        "        # using resize_ to just keep the first num_edges entries\n",
        "        edge_index = edge_index.resize_(2, num_edges)\n",
        "        edge_attr = edge_attr.resize_(num_edges, 1)\n",
        "\n",
        "        sequences = []\n",
        "        # T x F x N\n",
        "        for i in range(self.config['N_DAYS']):\n",
        "            for j in range(self.config['N_SLOT']):\n",
        "                # for each time point construct a different graph with data object\n",
        "                # Docs here: https://pytorch-geometric.readthedocs.io/en/latest/modules/data.html#torch_geometric.data.Data\n",
        "                g = Data()\n",
        "                g.__num_nodes__ = n_node\n",
        "\n",
        "                g.edge_index = edge_index\n",
        "                g.edge_attr  = edge_attr\n",
        "\n",
        "                # (F,N) switched to (N,F)\n",
        "                sta = i * self.config['N_DAY_SLOT'] + j\n",
        "                end = sta + n_window\n",
        "                # [21, 228]\n",
        "                full_window = np.swapaxes(data[sta:end, :], 0, 1)\n",
        "                g.x = torch.FloatTensor(full_window[:, 0:self.config['N_HIST']])\n",
        "                g.y = torch.FloatTensor(full_window[:, self.config['N_HIST']::])\n",
        "                sequences += [g]\n",
        "\n",
        "        # Make the actual dataset\n",
        "        data, slices = self.collate(sequences)\n",
        "        torch.save((data, slices, n_node, mean, std_dev), self.processed_paths[0])\n",
        "\n",
        "def get_splits(dataset: TrafficDataset, n_slot, splits):\n",
        "    \"\"\"\n",
        "    Given the data, split it into random subsets of train, val, and test as given by splits\n",
        "    :param dataset: TrafficDataset object to split\n",
        "    :param n_slot: Number of possible sliding windows in a day\n",
        "    :param splits: (train, val, test) ratios\n",
        "    \"\"\"\n",
        "    split_train, split_val, _ = splits\n",
        "    i = n_slot*split_train\n",
        "    j = n_slot*split_val\n",
        "    train = dataset[:i]\n",
        "    val = dataset[i:i+j]\n",
        "    test = dataset[i+j:]\n",
        "\n",
        "    return train, val, test\n"
      ],
      "metadata": {
        "id": "TEKy_v5EFPMt"
      },
      "execution_count": null,
      "outputs": []
    },
    {
      "cell_type": "markdown",
      "metadata": {
        "id": "ZoXlf4MtYrbz"
      },
      "source": [
        "#Build the Model\n",
        "\n",
        "Using PyG's built in layers, create a Spatio-Temporal Graph as presented in https://ieeexplore.ieee.org/document/8903252. \n",
        "\n",
        "Ths model is a Pytorch model containing an initialization function for setting up the model architecture, and a forward function for performing a forward pass of data through the model."
      ]
    },
    {
      "cell_type": "code",
      "source": [
        "import torch\n",
        "import torch.nn.functional as F\n",
        "from torch_geometric.nn import GATConv\n",
        "class ST_GAT(torch.nn.Module):\n",
        "    \"\"\"\n",
        "    Spatio-Temporal Graph Attention Network as presented in https://ieeexplore.ieee.org/document/8903252\n",
        "    \"\"\"\n",
        "    def __init__(self, in_channels, out_channels, n_nodes, heads=8, dropout=0.0):\n",
        "        \"\"\"\n",
        "        Initialize the ST-GAT model\n",
        "        :param in_channels Number of input channels\n",
        "        :param out_channels Number of output channels\n",
        "        :param n_nodes Number of nodes in the graph\n",
        "        :param heads Number of attention heads to use in graph\n",
        "        :param dropout Dropout probability on output of Graph Attention Network\n",
        "        \"\"\"\n",
        "        super(ST_GAT, self).__init__()\n",
        "        self.n_pred = out_channels\n",
        "        self.heads = heads\n",
        "        self.dropout = dropout\n",
        "        self.n_nodes = n_nodes\n",
        "\n",
        "        self.n_preds = 9\n",
        "        lstm1_hidden_size = 32\n",
        "        lstm2_hidden_size = 128\n",
        "\n",
        "        # single graph attentional layer with 8 attention heads\n",
        "        self.gat = GATConv(in_channels=in_channels, out_channels=in_channels,\n",
        "            heads=heads, dropout=0, concat=False)\n",
        "\n",
        "        # add two LSTM layers\n",
        "        self.lstm1 = torch.nn.LSTM(input_size=self.n_nodes, hidden_size=lstm1_hidden_size, num_layers=1)\n",
        "        for name, param in self.lstm1.named_parameters():\n",
        "            if 'bias' in name:\n",
        "                torch.nn.init.constant_(param, 0.0)\n",
        "            elif 'weight' in name:\n",
        "                torch.nn.init.xavier_uniform_(param)\n",
        "        self.lstm2 = torch.nn.LSTM(input_size=lstm1_hidden_size, hidden_size=lstm2_hidden_size, num_layers=1)\n",
        "        for name, param in self.lstm1.named_parameters():\n",
        "            if 'bias' in name:\n",
        "                torch.nn.init.constant_(param, 0.0)\n",
        "            elif 'weight' in name:\n",
        "                torch.nn.init.xavier_uniform_(param)\n",
        "\n",
        "        # fully-connected neural network\n",
        "        self.linear = torch.nn.Linear(lstm2_hidden_size, self.n_nodes*self.n_pred)\n",
        "        torch.nn.init.xavier_uniform_(self.linear.weight)\n",
        "\n",
        "    def forward(self, data, device):\n",
        "        \"\"\"\n",
        "        Forward pass of the ST-GAT model\n",
        "        :param data Data to make a pass on\n",
        "        :param device Device to operate on\n",
        "        \"\"\"\n",
        "        x, edge_index = data.x, data.edge_index\n",
        "        # apply dropout\n",
        "        if device == 'cpu':\n",
        "            x = torch.FloatTensor(x)\n",
        "        else:\n",
        "            x = torch.cuda.FloatTensor(x)\n",
        "\n",
        "        # gat layer: output of gat: [11400, 12]\n",
        "        x = self.gat(x, edge_index)\n",
        "        x = F.dropout(x, self.dropout, training=self.training)\n",
        "\n",
        "        # RNN: 2 LSTM\n",
        "        # [batchsize*n_nodes, seq_length] -> [batch_size, n_nodes, seq_length]\n",
        "        batch_size = data.num_graphs\n",
        "        n_node = int(data.num_nodes/batch_size)\n",
        "        x = torch.reshape(x, (batch_size, n_node, data.num_features))\n",
        "        # for lstm: x should be (seq_length, batch_size, n_nodes)\n",
        "        # sequence length = 12, batch_size = 50, n_node = 228\n",
        "        x = torch.movedim(x, 2, 0)\n",
        "        # [12, 50, 228] -> [12, 50, 32]\n",
        "        x, _ = self.lstm1(x)\n",
        "        # [12, 50, 32] -> [12, 50, 128]\n",
        "        x, _ = self.lstm2(x)\n",
        "\n",
        "        # Output contains h_t for each timestep, only the last one has all input's accounted for\n",
        "        # [12, 50, 128] -> [50, 128]\n",
        "        x = torch.squeeze(x[-1, :, :])\n",
        "        # [50, 128] -> [50, 228*9]\n",
        "        x = self.linear(x)\n",
        "\n",
        "        # Now reshape into final output\n",
        "        s = x.shape\n",
        "        # [50, 228*9] -> [50, 228, 9]\n",
        "        x = torch.reshape(x, (s[0], self.n_nodes, self.n_pred))\n",
        "        # [50, 228, 9] ->  [11400, 9]\n",
        "        x = torch.reshape(x, (s[0]*self.n_nodes, self.n_pred))\n",
        "        return x\n"
      ],
      "metadata": {
        "id": "B7jt96q77EZF"
      },
      "execution_count": null,
      "outputs": []
    },
    {
      "cell_type": "markdown",
      "source": [
        "##Create Train and Evaluation functions\n",
        "\n",
        "Create a train function which performs a forward and a backward pass using the model.\n",
        "\n",
        "Create an evaluation function which performs only a forward pass using the model.\n",
        "\n",
        "These functions will be used in various stages of overall model training and testing."
      ],
      "metadata": {
        "id": "W42pHHlz7GUv"
      }
    },
    {
      "cell_type": "code",
      "source": [
        "@torch.no_grad()\n",
        "def eval(model, device, dataloader, type=''):\n",
        "    \"\"\"\n",
        "    Evaluation function to evaluate model on data\n",
        "    :param model Model to evaluate\n",
        "    :param device Device to evaluate on\n",
        "    :param dataloader Data loader\n",
        "    :param type Name of evaluation type, e.g. Train/Val/Test\n",
        "    \"\"\"\n",
        "    model.eval()\n",
        "    model.to(device)\n",
        "\n",
        "    mae = 0\n",
        "    rmse = 0\n",
        "    mape = 0\n",
        "    n = 0\n",
        "\n",
        "    # Evaluate model on all data\n",
        "    for i, batch in enumerate(dataloader):\n",
        "        batch = batch.to(device)\n",
        "        if batch.x.shape[0] == 1:\n",
        "            pass\n",
        "        else:\n",
        "            with torch.no_grad():\n",
        "                pred = model(batch, device)\n",
        "            truth = batch.y.view(pred.shape)\n",
        "            if i == 0:\n",
        "                y_pred = torch.zeros(len(dataloader), pred.shape[0], pred.shape[1])\n",
        "                y_truth = torch.zeros(len(dataloader), pred.shape[0], pred.shape[1])\n",
        "            truth = un_z_score(truth, dataloader.dataset.mean, dataloader.dataset.std_dev)\n",
        "            pred = un_z_score(pred, dataloader.dataset.mean, dataloader.dataset.std_dev)\n",
        "            y_pred[i, :pred.shape[0], :] = pred\n",
        "            y_truth[i, :pred.shape[0], :] = truth\n",
        "            rmse += RMSE(truth, pred)\n",
        "            mae += MAE(truth, pred)\n",
        "            mape += MAPE(truth, pred)\n",
        "            n += 1\n",
        "    rmse, mae, mape = rmse / n, mae / n, mape / n\n",
        "\n",
        "    print(f'{type}, MAE: {mae}, RMSE: {rmse}, MAPE: {mape}')\n",
        "\n",
        "    #get the average score for each metric in each batch\n",
        "    return rmse, mae, mape, y_pred, y_truth\n",
        "\n",
        "def train(model, device, dataloader, optimizer, loss_fn, epoch):\n",
        "    \"\"\"\n",
        "    Evaluation function to evaluate model on data\n",
        "    :param model Model to evaluate\n",
        "    :param device Device to evaluate on\n",
        "    :param dataloader Data loader\n",
        "    :param optimizer Optimizer to use\n",
        "    :param loss_fn Loss function\n",
        "    :param epoch Current epoch\n",
        "    \"\"\"\n",
        "    model.train()\n",
        "    for _, batch in enumerate(tqdm(dataloader, desc=f\"Epoch {epoch}\")):\n",
        "        batch = batch.to(device)\n",
        "        optimizer.zero_grad()\n",
        "        y_pred = torch.squeeze(model(batch, device))\n",
        "        loss = loss_fn()(y_pred.float(), torch.squeeze(batch.y).float())\n",
        "        writer.add_scalar(\"Loss/train\", loss, epoch)\n",
        "        loss.backward()\n",
        "        optimizer.step()\n",
        "\n",
        "    return loss"
      ],
      "metadata": {
        "id": "mcifitQO7uag"
      },
      "execution_count": null,
      "outputs": []
    },
    {
      "cell_type": "markdown",
      "source": [
        "In order to evaluation the performance of the model, we need to define some evaluation metrics.  \n",
        "\n",
        "*   The Z-score normalizes data using mean and std deviation.\n",
        "*   MAPE is mean average percentage error. \n",
        "*   RMSE is root mean square error.\n",
        "*   MAE is mean absolute error. \n",
        "\n",
        "\n",
        "\n"
      ],
      "metadata": {
        "id": "N6tXJUu38HGo"
      }
    },
    {
      "cell_type": "code",
      "source": [
        "def z_score(x, mean, std):\n",
        "    \"\"\"\n",
        "    Z-score normalization function: $z = (X - \\mu) / \\sigma $,\n",
        "    where z is the z-score, X is the value of the element,\n",
        "    $\\mu$ is the population mean, and $\\sigma$ is the standard deviation.\n",
        "    :param x: torch array, input array to be normalized.\n",
        "    :param mean: float, the value of mean.\n",
        "    :param std: float, the value of standard deviation.\n",
        "    :return: torch array, z-score normalized array.\n",
        "    \"\"\"\n",
        "    return (x - mean) / std\n",
        "\n",
        "def un_z_score(x_normed, mean, std):\n",
        "    \"\"\"\n",
        "    Undo the Z-score calculation\n",
        "    :param x_normed: torch array, input array to be un-normalized.\n",
        "    :param mean: float, the value of mean.\n",
        "    :param std: float, the value of standard deviation.\n",
        "    \"\"\"\n",
        "    return x_normed * std  + mean\n",
        "\n",
        "\n",
        "def MAPE(v, v_):\n",
        "    \"\"\"\n",
        "    Mean absolute percentage error, given as a % (e.g. 99 -> 99%)\n",
        "    :param v: torch array, ground truth.\n",
        "    :param v_: torch array, prediction.\n",
        "    :return: torch scalar, MAPE averages on all elements of input.\n",
        "    \"\"\"\n",
        "    return torch.mean(torch.abs((v_ - v)) /(v + 1e-15) * 100)\n",
        "\n",
        "\n",
        "def RMSE(v, v_):\n",
        "    \"\"\"\n",
        "    Mean squared error.\n",
        "    :param v: torch array, ground truth.\n",
        "    :param v_: torch array, prediction.\n",
        "    :return: torch scalar, RMSE averages on all elements of input.\n",
        "    \"\"\"\n",
        "    return torch.sqrt(torch.mean((v_ - v) ** 2))\n",
        "\n",
        "\n",
        "def MAE(v, v_):\n",
        "    \"\"\"\n",
        "    Mean absolute error.\n",
        "    :param v: torch array, ground truth.\n",
        "    :param v_: torch array, prediction.\n",
        "    :return: torch scalar, MAE averages on all elements of input.\n",
        "    \"\"\"\n",
        "    return torch.mean(torch.abs(v_ - v))\n"
      ],
      "metadata": {
        "id": "0CP54Sdb8HRC"
      },
      "execution_count": null,
      "outputs": []
    },
    {
      "cell_type": "markdown",
      "source": [
        "Now, let's put it all together. Let's use the `train` and `eval` functions along with the model and dataloadres to create a training function (`model_train`) and testing function (`model_test`).\n",
        "\n",
        "We also build in tensorboard support for logging of the training metrics over time.\n"
      ],
      "metadata": {
        "id": "RQmkAf1W7z2f"
      }
    },
    {
      "cell_type": "code",
      "source": [
        "import torch\n",
        "import torch.optim as optim\n",
        "from tqdm import tqdm\n",
        "import time\n",
        "import os\n",
        "import matplotlib.pyplot as plt\n",
        "\n",
        "from torch.utils.tensorboard import SummaryWriter\n",
        "\n",
        "# Make a tensorboard writer\n",
        "writer = SummaryWriter()\n",
        "\n",
        "def model_train(train_dataloader, val_dataloader, config, device):\n",
        "    \"\"\"\n",
        "    Train the ST-GAT model. Evaluate on validation dataset as you go.\n",
        "    :param train_dataloader Data loader of training dataset\n",
        "    :param val_dataloader Dataloader of val dataset\n",
        "    :param config configuration to use\n",
        "    :param device Device to evaluate on\n",
        "    \"\"\"\n",
        "\n",
        "    # Make the model. Each datapoint in the graph is 228x12: N x F (N = # nodes, F = time window)\n",
        "    model = ST_GAT(in_channels=config['N_HIST'], out_channels=config['N_PRED'], n_nodes=config['N_NODE'], dropout=config['DROPOUT'])\n",
        "    optimizer = optim.Adam(model.parameters(), lr=config['INITIAL_LR'], weight_decay=config['WEIGHT_DECAY'])\n",
        "    loss_fn = torch.nn.MSELoss\n",
        "\n",
        "    model.to(device)\n",
        "\n",
        "    # For every epoch, train the model on training dataset. Evaluate model on validation dataset\n",
        "    for epoch in range(config['EPOCHS']):\n",
        "        loss = train(model, device, train_dataloader, optimizer, loss_fn, epoch)\n",
        "        print(f\"Loss: {loss:.3f}\")\n",
        "        if epoch % 5 == 0:\n",
        "            train_mae, train_rmse, train_mape, _, _ = eval(model, device, train_dataloader, 'Train')\n",
        "            val_mae, val_rmse, val_mape, _, _ = eval(model, device, val_dataloader, 'Valid')\n",
        "            writer.add_scalar(f\"MAE/train\", train_mae, epoch)\n",
        "            writer.add_scalar(f\"RMSE/train\", train_rmse, epoch)\n",
        "            writer.add_scalar(f\"MAPE/train\", train_mape, epoch)\n",
        "            writer.add_scalar(f\"MAE/val\", val_mae, epoch)\n",
        "            writer.add_scalar(f\"RMSE/val\", val_rmse, epoch)\n",
        "            writer.add_scalar(f\"MAPE/val\", val_mape, epoch)\n",
        "\n",
        "    writer.flush()\n",
        "    # Save the model\n",
        "    timestr = time.strftime(\"%m-%d-%H%M%S\")\n",
        "    torch.save({\n",
        "            \"epoch\": epoch,\n",
        "            \"model_state_dict\": model.state_dict(),\n",
        "            \"optimizer_state_dict\": optimizer.state_dict(),\n",
        "            \"loss\": loss,\n",
        "            }, os.path.join(config[\"CHECKPOINT_DIR\"], f\"model_{timestr}.pt\"))\n",
        "\n",
        "    return model\n",
        "\n",
        "def model_test(model, test_dataloader, device, config):\n",
        "    \"\"\"\n",
        "    Test the ST-GAT model\n",
        "    :param test_dataloader Data loader of test dataset\n",
        "    :param device Device to evaluate on\n",
        "    \"\"\"\n",
        "    _, _, _, y_pred, y_truth = eval(model, device, test_dataloader, 'Test')\n"
      ],
      "metadata": {
        "id": "iwQHMBp975LP"
      },
      "execution_count": null,
      "outputs": []
    },
    {
      "cell_type": "markdown",
      "source": [
        "##Start training\n",
        "\n",
        "Now with all code in place, let's set up config, load our dataset, and start training!"
      ],
      "metadata": {
        "id": "zUj42a8B_6wE"
      }
    },
    {
      "cell_type": "markdown",
      "source": [
        "First, to watch your training over time, load the tensorboard extension"
      ],
      "metadata": {
        "id": "HC3ssSNGGU0J"
      }
    },
    {
      "cell_type": "code",
      "source": [
        "%load_ext tensorboard\n",
        "%tensorboard --logdir ./runs"
      ],
      "metadata": {
        "colab": {
          "base_uri": "https://localhost:8080/",
          "height": 821
        },
        "id": "kbA6aPl0GH-F",
        "outputId": "c4c243b6-4614-4812-8e3a-c746f0ce527c"
      },
      "execution_count": null,
      "outputs": [
        {
          "output_type": "stream",
          "text": [
            "\u001b[1;30;43m此单元格的输出内容太大，只能在登录的情况下显示。\u001b[0m\n"
          ]
        }
      ]
    },
    {
      "cell_type": "markdown",
      "source": [
        "Now, create your dataloaders and start training!\n",
        "\n",
        "In our default configuration, we train for 60 epochs with a batch size of 50. You can view your training progress in the tensorboard above by clicking the \"refresh\" button to see new data. Training and validation performance are updated every 5 epochs."
      ],
      "metadata": {
        "id": "OyZlmf8BGZx5"
      }
    },
    {
      "cell_type": "code",
      "source": [
        "from torch_geometric.loader import DataLoader\n",
        "\n",
        "# Constant config to use throughout\n",
        "config = {\n",
        "    'BATCH_SIZE': 50,\n",
        "    'EPOCHS': 60,\n",
        "    'WEIGHT_DECAY': 5e-5,\n",
        "    'INITIAL_LR': 3e-4,\n",
        "    'CHECKPOINT_DIR': './runs',\n",
        "    'N_PRED': 9,\n",
        "    'N_HIST': 12,\n",
        "    'DROPOUT': 0.2,\n",
        "    # number of possible 5 minute measurements per day\n",
        "    'N_DAY_SLOT': 288,\n",
        "    # number of days worth of data in the dataset\n",
        "    'N_DAYS': 44,\n",
        "    # If false, use GCN paper weight matrix, if true, use GAT paper weight matrix\n",
        "    'USE_GAT_WEIGHTS': True,\n",
        "    'N_NODE': 228,\n",
        "}\n",
        "# Number of possible windows in a day\n",
        "config['N_SLOT']= config['N_DAY_SLOT'] - (config['N_PRED']+config['N_HIST']) + 1\n",
        "\n",
        "# Load the weight and dataset dataset\n",
        "distances = pd.read_csv('./dataset/PeMSD7_W_228.csv', header=None).values\n",
        "W = distance_to_weight(distances, gat_version=config['USE_GAT_WEIGHTS'])\n",
        "dataset = TrafficDataset(config, W)\n",
        "\n",
        "# total of 44 days in the dataset, use 34 for training, 5 for val, 5 for test\n",
        "d_train, d_val, d_test = get_splits(dataset, config['N_SLOT'], (34, 5, 5))\n",
        "train_dataloader = DataLoader(d_train, batch_size=config['BATCH_SIZE'], shuffle=True)\n",
        "val_dataloader = DataLoader(d_val, batch_size=config['BATCH_SIZE'], shuffle=True)\n",
        "test_dataloader = DataLoader(d_test, batch_size=config['BATCH_SIZE'], shuffle=False)\n",
        "\n",
        "# Get gpu if you can\n",
        "device = 'cuda' if torch.cuda.is_available() else 'cpu'\n",
        "print(f\"Using {device}\")\n",
        "\n",
        "# Configure and train model\n",
        "config['N_NODE'] = dataset.n_node\n",
        "model = model_train(train_dataloader, val_dataloader, config, device)"
      ],
      "metadata": {
        "colab": {
          "base_uri": "https://localhost:8080/"
        },
        "id": "EFwnhhQJCEOO",
        "outputId": "2c50f969-84e0-4e0f-f1b5-f8329a806b42"
      },
      "execution_count": null,
      "outputs": [
        {
          "output_type": "stream",
          "name": "stderr",
          "text": [
            "Processing...\n",
            "Done!\n"
          ]
        },
        {
          "output_type": "stream",
          "name": "stdout",
          "text": [
            "Using cuda\n"
          ]
        },
        {
          "output_type": "stream",
          "name": "stderr",
          "text": [
            "Epoch 0: 100%|██████████| 183/183 [00:06<00:00, 26.16it/s]\n"
          ]
        },
        {
          "output_type": "stream",
          "name": "stdout",
          "text": [
            "Loss: 0.256\n",
            "Train, MAE: 5.0243940353393555, RMSE: 7.9125165939331055, MAPE: 13.189617156982422\n",
            "Valid, MAE: 5.053834915161133, RMSE: 7.847815036773682, MAPE: 13.16602611541748\n"
          ]
        },
        {
          "output_type": "stream",
          "name": "stderr",
          "text": [
            "Epoch 1: 100%|██████████| 183/183 [00:04<00:00, 38.19it/s]\n"
          ]
        },
        {
          "output_type": "stream",
          "name": "stdout",
          "text": [
            "Loss: 0.247\n"
          ]
        },
        {
          "output_type": "stream",
          "name": "stderr",
          "text": [
            "Epoch 2: 100%|██████████| 183/183 [00:03<00:00, 45.94it/s]\n"
          ]
        },
        {
          "output_type": "stream",
          "name": "stdout",
          "text": [
            "Loss: 0.356\n"
          ]
        },
        {
          "output_type": "stream",
          "name": "stderr",
          "text": [
            "Epoch 3: 100%|██████████| 183/183 [00:03<00:00, 45.84it/s]\n"
          ]
        },
        {
          "output_type": "stream",
          "name": "stdout",
          "text": [
            "Loss: 0.321\n"
          ]
        },
        {
          "output_type": "stream",
          "name": "stderr",
          "text": [
            "Epoch 4: 100%|██████████| 183/183 [00:03<00:00, 45.78it/s]\n"
          ]
        },
        {
          "output_type": "stream",
          "name": "stdout",
          "text": [
            "Loss: 0.253\n"
          ]
        },
        {
          "output_type": "stream",
          "name": "stderr",
          "text": [
            "Epoch 5: 100%|██████████| 183/183 [00:04<00:00, 45.69it/s]\n"
          ]
        },
        {
          "output_type": "stream",
          "name": "stdout",
          "text": [
            "Loss: 0.236\n",
            "Train, MAE: 3.7368552684783936, RMSE: 6.391045570373535, MAPE: 9.523011207580566\n",
            "Valid, MAE: 3.9742846488952637, RMSE: 6.76729154586792, MAPE: 9.99803638458252\n"
          ]
        },
        {
          "output_type": "stream",
          "name": "stderr",
          "text": [
            "Epoch 6: 100%|██████████| 183/183 [00:04<00:00, 45.18it/s]\n"
          ]
        },
        {
          "output_type": "stream",
          "name": "stdout",
          "text": [
            "Loss: 0.213\n"
          ]
        },
        {
          "output_type": "stream",
          "name": "stderr",
          "text": [
            "Epoch 7: 100%|██████████| 183/183 [00:04<00:00, 45.56it/s]\n"
          ]
        },
        {
          "output_type": "stream",
          "name": "stdout",
          "text": [
            "Loss: 0.154\n"
          ]
        },
        {
          "output_type": "stream",
          "name": "stderr",
          "text": [
            "Epoch 8: 100%|██████████| 183/183 [00:04<00:00, 45.31it/s]\n"
          ]
        },
        {
          "output_type": "stream",
          "name": "stdout",
          "text": [
            "Loss: 0.203\n"
          ]
        },
        {
          "output_type": "stream",
          "name": "stderr",
          "text": [
            "Epoch 9: 100%|██████████| 183/183 [00:04<00:00, 45.27it/s]\n"
          ]
        },
        {
          "output_type": "stream",
          "name": "stdout",
          "text": [
            "Loss: 0.126\n"
          ]
        },
        {
          "output_type": "stream",
          "name": "stderr",
          "text": [
            "Epoch 10: 100%|██████████| 183/183 [00:04<00:00, 45.05it/s]\n"
          ]
        },
        {
          "output_type": "stream",
          "name": "stdout",
          "text": [
            "Loss: 0.218\n",
            "Train, MAE: 3.431297779083252, RMSE: 5.894279479980469, MAPE: 8.705282211303711\n",
            "Valid, MAE: 3.790898084640503, RMSE: 6.53023624420166, MAPE: 9.536735534667969\n"
          ]
        },
        {
          "output_type": "stream",
          "name": "stderr",
          "text": [
            "Epoch 11: 100%|██████████| 183/183 [00:03<00:00, 46.09it/s]\n"
          ]
        },
        {
          "output_type": "stream",
          "name": "stdout",
          "text": [
            "Loss: 0.149\n"
          ]
        },
        {
          "output_type": "stream",
          "name": "stderr",
          "text": [
            "Epoch 12: 100%|██████████| 183/183 [00:04<00:00, 45.73it/s]\n"
          ]
        },
        {
          "output_type": "stream",
          "name": "stdout",
          "text": [
            "Loss: 0.185\n"
          ]
        },
        {
          "output_type": "stream",
          "name": "stderr",
          "text": [
            "Epoch 13: 100%|██████████| 183/183 [00:03<00:00, 45.90it/s]\n"
          ]
        },
        {
          "output_type": "stream",
          "name": "stdout",
          "text": [
            "Loss: 0.143\n"
          ]
        },
        {
          "output_type": "stream",
          "name": "stderr",
          "text": [
            "Epoch 14: 100%|██████████| 183/183 [00:03<00:00, 46.02it/s]\n"
          ]
        },
        {
          "output_type": "stream",
          "name": "stdout",
          "text": [
            "Loss: 0.166\n"
          ]
        },
        {
          "output_type": "stream",
          "name": "stderr",
          "text": [
            "Epoch 15: 100%|██████████| 183/183 [00:03<00:00, 46.36it/s]\n"
          ]
        },
        {
          "output_type": "stream",
          "name": "stdout",
          "text": [
            "Loss: 0.224\n",
            "Train, MAE: 3.262099504470825, RMSE: 5.56423807144165, MAPE: 8.141607284545898\n",
            "Valid, MAE: 3.7339463233947754, RMSE: 6.402459621429443, MAPE: 9.295312881469727\n"
          ]
        },
        {
          "output_type": "stream",
          "name": "stderr",
          "text": [
            "Epoch 16: 100%|██████████| 183/183 [00:03<00:00, 46.21it/s]\n"
          ]
        },
        {
          "output_type": "stream",
          "name": "stdout",
          "text": [
            "Loss: 0.221\n"
          ]
        },
        {
          "output_type": "stream",
          "name": "stderr",
          "text": [
            "Epoch 17: 100%|██████████| 183/183 [00:03<00:00, 45.93it/s]\n"
          ]
        },
        {
          "output_type": "stream",
          "name": "stdout",
          "text": [
            "Loss: 0.175\n"
          ]
        },
        {
          "output_type": "stream",
          "name": "stderr",
          "text": [
            "Epoch 18: 100%|██████████| 183/183 [00:03<00:00, 46.05it/s]\n"
          ]
        },
        {
          "output_type": "stream",
          "name": "stdout",
          "text": [
            "Loss: 0.166\n"
          ]
        },
        {
          "output_type": "stream",
          "name": "stderr",
          "text": [
            "Epoch 19: 100%|██████████| 183/183 [00:03<00:00, 45.90it/s]\n"
          ]
        },
        {
          "output_type": "stream",
          "name": "stdout",
          "text": [
            "Loss: 0.180\n"
          ]
        },
        {
          "output_type": "stream",
          "name": "stderr",
          "text": [
            "Epoch 20: 100%|██████████| 183/183 [00:03<00:00, 46.16it/s]\n"
          ]
        },
        {
          "output_type": "stream",
          "name": "stdout",
          "text": [
            "Loss: 0.211\n",
            "Train, MAE: 3.1487669944763184, RMSE: 5.3401103019714355, MAPE: 7.7841949462890625\n",
            "Valid, MAE: 3.733562707901001, RMSE: 6.39630651473999, MAPE: 9.200615882873535\n"
          ]
        },
        {
          "output_type": "stream",
          "name": "stderr",
          "text": [
            "Epoch 21: 100%|██████████| 183/183 [00:03<00:00, 45.94it/s]\n"
          ]
        },
        {
          "output_type": "stream",
          "name": "stdout",
          "text": [
            "Loss: 0.137\n"
          ]
        },
        {
          "output_type": "stream",
          "name": "stderr",
          "text": [
            "Epoch 22: 100%|██████████| 183/183 [00:03<00:00, 45.78it/s]\n"
          ]
        },
        {
          "output_type": "stream",
          "name": "stdout",
          "text": [
            "Loss: 0.141\n"
          ]
        },
        {
          "output_type": "stream",
          "name": "stderr",
          "text": [
            "Epoch 23: 100%|██████████| 183/183 [00:03<00:00, 45.83it/s]\n"
          ]
        },
        {
          "output_type": "stream",
          "name": "stdout",
          "text": [
            "Loss: 0.207\n"
          ]
        },
        {
          "output_type": "stream",
          "name": "stderr",
          "text": [
            "Epoch 24: 100%|██████████| 183/183 [00:03<00:00, 46.41it/s]\n"
          ]
        },
        {
          "output_type": "stream",
          "name": "stdout",
          "text": [
            "Loss: 0.141\n"
          ]
        },
        {
          "output_type": "stream",
          "name": "stderr",
          "text": [
            "Epoch 25: 100%|██████████| 183/183 [00:03<00:00, 46.24it/s]\n"
          ]
        },
        {
          "output_type": "stream",
          "name": "stdout",
          "text": [
            "Loss: 0.125\n",
            "Train, MAE: 3.0864126682281494, RMSE: 5.18549919128418, MAPE: 7.59406042098999\n",
            "Valid, MAE: 3.7119662761688232, RMSE: 6.33851957321167, MAPE: 9.20683479309082\n"
          ]
        },
        {
          "output_type": "stream",
          "name": "stderr",
          "text": [
            "Epoch 26: 100%|██████████| 183/183 [00:03<00:00, 46.09it/s]\n"
          ]
        },
        {
          "output_type": "stream",
          "name": "stdout",
          "text": [
            "Loss: 0.129\n"
          ]
        },
        {
          "output_type": "stream",
          "name": "stderr",
          "text": [
            "Epoch 27: 100%|██████████| 183/183 [00:04<00:00, 45.73it/s]\n"
          ]
        },
        {
          "output_type": "stream",
          "name": "stdout",
          "text": [
            "Loss: 0.119\n"
          ]
        },
        {
          "output_type": "stream",
          "name": "stderr",
          "text": [
            "Epoch 28: 100%|██████████| 183/183 [00:03<00:00, 45.80it/s]\n"
          ]
        },
        {
          "output_type": "stream",
          "name": "stdout",
          "text": [
            "Loss: 0.090\n"
          ]
        },
        {
          "output_type": "stream",
          "name": "stderr",
          "text": [
            "Epoch 29: 100%|██████████| 183/183 [00:03<00:00, 45.89it/s]\n"
          ]
        },
        {
          "output_type": "stream",
          "name": "stdout",
          "text": [
            "Loss: 0.136\n"
          ]
        },
        {
          "output_type": "stream",
          "name": "stderr",
          "text": [
            "Epoch 30: 100%|██████████| 183/183 [00:04<00:00, 45.75it/s]\n"
          ]
        },
        {
          "output_type": "stream",
          "name": "stdout",
          "text": [
            "Loss: 0.167\n",
            "Train, MAE: 3.028179168701172, RMSE: 5.074080944061279, MAPE: 7.4495320320129395\n",
            "Valid, MAE: 3.6957664489746094, RMSE: 6.333939075469971, MAPE: 9.153971672058105\n"
          ]
        },
        {
          "output_type": "stream",
          "name": "stderr",
          "text": [
            "Epoch 31: 100%|██████████| 183/183 [00:04<00:00, 45.49it/s]\n"
          ]
        },
        {
          "output_type": "stream",
          "name": "stdout",
          "text": [
            "Loss: 0.152\n"
          ]
        },
        {
          "output_type": "stream",
          "name": "stderr",
          "text": [
            "Epoch 32: 100%|██████████| 183/183 [00:04<00:00, 45.54it/s]\n"
          ]
        },
        {
          "output_type": "stream",
          "name": "stdout",
          "text": [
            "Loss: 0.149\n"
          ]
        },
        {
          "output_type": "stream",
          "name": "stderr",
          "text": [
            "Epoch 33: 100%|██████████| 183/183 [00:04<00:00, 45.58it/s]\n"
          ]
        },
        {
          "output_type": "stream",
          "name": "stdout",
          "text": [
            "Loss: 0.163\n"
          ]
        },
        {
          "output_type": "stream",
          "name": "stderr",
          "text": [
            "Epoch 34: 100%|██████████| 183/183 [00:03<00:00, 45.80it/s]\n"
          ]
        },
        {
          "output_type": "stream",
          "name": "stdout",
          "text": [
            "Loss: 0.079\n"
          ]
        },
        {
          "output_type": "stream",
          "name": "stderr",
          "text": [
            "Epoch 35: 100%|██████████| 183/183 [00:04<00:00, 44.97it/s]\n"
          ]
        },
        {
          "output_type": "stream",
          "name": "stdout",
          "text": [
            "Loss: 0.134\n",
            "Train, MAE: 2.997509717941284, RMSE: 4.9981865882873535, MAPE: 7.287314414978027\n",
            "Valid, MAE: 3.7374982833862305, RMSE: 6.392979621887207, MAPE: 9.167180061340332\n"
          ]
        },
        {
          "output_type": "stream",
          "name": "stderr",
          "text": [
            "Epoch 36: 100%|██████████| 183/183 [00:03<00:00, 46.20it/s]\n"
          ]
        },
        {
          "output_type": "stream",
          "name": "stdout",
          "text": [
            "Loss: 0.133\n"
          ]
        },
        {
          "output_type": "stream",
          "name": "stderr",
          "text": [
            "Epoch 37: 100%|██████████| 183/183 [00:04<00:00, 45.29it/s]\n"
          ]
        },
        {
          "output_type": "stream",
          "name": "stdout",
          "text": [
            "Loss: 0.134\n"
          ]
        },
        {
          "output_type": "stream",
          "name": "stderr",
          "text": [
            "Epoch 38: 100%|██████████| 183/183 [00:03<00:00, 45.88it/s]\n"
          ]
        },
        {
          "output_type": "stream",
          "name": "stdout",
          "text": [
            "Loss: 0.196\n"
          ]
        },
        {
          "output_type": "stream",
          "name": "stderr",
          "text": [
            "Epoch 39: 100%|██████████| 183/183 [00:03<00:00, 46.00it/s]\n"
          ]
        },
        {
          "output_type": "stream",
          "name": "stdout",
          "text": [
            "Loss: 0.118\n"
          ]
        },
        {
          "output_type": "stream",
          "name": "stderr",
          "text": [
            "Epoch 40: 100%|██████████| 183/183 [00:04<00:00, 45.59it/s]\n"
          ]
        },
        {
          "output_type": "stream",
          "name": "stdout",
          "text": [
            "Loss: 0.121\n",
            "Train, MAE: 2.9529385566711426, RMSE: 4.916229724884033, MAPE: 7.194719314575195\n",
            "Valid, MAE: 3.7182185649871826, RMSE: 6.366259574890137, MAPE: 9.16735553741455\n"
          ]
        },
        {
          "output_type": "stream",
          "name": "stderr",
          "text": [
            "Epoch 41: 100%|██████████| 183/183 [00:03<00:00, 46.05it/s]\n"
          ]
        },
        {
          "output_type": "stream",
          "name": "stdout",
          "text": [
            "Loss: 0.143\n"
          ]
        },
        {
          "output_type": "stream",
          "name": "stderr",
          "text": [
            "Epoch 42: 100%|██████████| 183/183 [00:03<00:00, 45.88it/s]\n"
          ]
        },
        {
          "output_type": "stream",
          "name": "stdout",
          "text": [
            "Loss: 0.186\n"
          ]
        },
        {
          "output_type": "stream",
          "name": "stderr",
          "text": [
            "Epoch 43: 100%|██████████| 183/183 [00:03<00:00, 45.89it/s]\n"
          ]
        },
        {
          "output_type": "stream",
          "name": "stdout",
          "text": [
            "Loss: 0.180\n"
          ]
        },
        {
          "output_type": "stream",
          "name": "stderr",
          "text": [
            "Epoch 44: 100%|██████████| 183/183 [00:04<00:00, 45.63it/s]\n"
          ]
        },
        {
          "output_type": "stream",
          "name": "stdout",
          "text": [
            "Loss: 0.137\n"
          ]
        },
        {
          "output_type": "stream",
          "name": "stderr",
          "text": [
            "Epoch 45: 100%|██████████| 183/183 [00:04<00:00, 44.91it/s]\n"
          ]
        },
        {
          "output_type": "stream",
          "name": "stdout",
          "text": [
            "Loss: 0.119\n",
            "Train, MAE: 2.9275946617126465, RMSE: 4.853134632110596, MAPE: 7.141767501831055\n",
            "Valid, MAE: 3.740072250366211, RMSE: 6.3743367195129395, MAPE: 9.209250450134277\n"
          ]
        },
        {
          "output_type": "stream",
          "name": "stderr",
          "text": [
            "Epoch 46: 100%|██████████| 183/183 [00:04<00:00, 44.89it/s]\n"
          ]
        },
        {
          "output_type": "stream",
          "name": "stdout",
          "text": [
            "Loss: 0.167\n"
          ]
        },
        {
          "output_type": "stream",
          "name": "stderr",
          "text": [
            "Epoch 47: 100%|██████████| 183/183 [00:04<00:00, 44.22it/s]\n"
          ]
        },
        {
          "output_type": "stream",
          "name": "stdout",
          "text": [
            "Loss: 0.122\n"
          ]
        },
        {
          "output_type": "stream",
          "name": "stderr",
          "text": [
            "Epoch 48: 100%|██████████| 183/183 [00:04<00:00, 45.29it/s]\n"
          ]
        },
        {
          "output_type": "stream",
          "name": "stdout",
          "text": [
            "Loss: 0.103\n"
          ]
        },
        {
          "output_type": "stream",
          "name": "stderr",
          "text": [
            "Epoch 49: 100%|██████████| 183/183 [00:03<00:00, 45.85it/s]\n"
          ]
        },
        {
          "output_type": "stream",
          "name": "stdout",
          "text": [
            "Loss: 0.100\n"
          ]
        },
        {
          "output_type": "stream",
          "name": "stderr",
          "text": [
            "Epoch 50: 100%|██████████| 183/183 [00:04<00:00, 45.19it/s]\n"
          ]
        },
        {
          "output_type": "stream",
          "name": "stdout",
          "text": [
            "Loss: 0.152\n",
            "Train, MAE: 2.9007420539855957, RMSE: 4.799988269805908, MAPE: 7.050012588500977\n",
            "Valid, MAE: 3.729079484939575, RMSE: 6.353559970855713, MAPE: 9.162540435791016\n"
          ]
        },
        {
          "output_type": "stream",
          "name": "stderr",
          "text": [
            "Epoch 51: 100%|██████████| 183/183 [00:04<00:00, 45.40it/s]\n"
          ]
        },
        {
          "output_type": "stream",
          "name": "stdout",
          "text": [
            "Loss: 0.126\n"
          ]
        },
        {
          "output_type": "stream",
          "name": "stderr",
          "text": [
            "Epoch 52: 100%|██████████| 183/183 [00:04<00:00, 45.23it/s]\n"
          ]
        },
        {
          "output_type": "stream",
          "name": "stdout",
          "text": [
            "Loss: 0.136\n"
          ]
        },
        {
          "output_type": "stream",
          "name": "stderr",
          "text": [
            "Epoch 53: 100%|██████████| 183/183 [00:04<00:00, 45.43it/s]\n"
          ]
        },
        {
          "output_type": "stream",
          "name": "stdout",
          "text": [
            "Loss: 0.112\n"
          ]
        },
        {
          "output_type": "stream",
          "name": "stderr",
          "text": [
            "Epoch 54: 100%|██████████| 183/183 [00:04<00:00, 45.36it/s]\n"
          ]
        },
        {
          "output_type": "stream",
          "name": "stdout",
          "text": [
            "Loss: 0.145\n"
          ]
        },
        {
          "output_type": "stream",
          "name": "stderr",
          "text": [
            "Epoch 55: 100%|██████████| 183/183 [00:04<00:00, 45.21it/s]\n"
          ]
        },
        {
          "output_type": "stream",
          "name": "stdout",
          "text": [
            "Loss: 0.165\n",
            "Train, MAE: 2.883657455444336, RMSE: 4.763654708862305, MAPE: 7.03734016418457\n",
            "Valid, MAE: 3.732534408569336, RMSE: 6.3664703369140625, MAPE: 9.234374046325684\n"
          ]
        },
        {
          "output_type": "stream",
          "name": "stderr",
          "text": [
            "Epoch 56: 100%|██████████| 183/183 [00:04<00:00, 45.13it/s]\n"
          ]
        },
        {
          "output_type": "stream",
          "name": "stdout",
          "text": [
            "Loss: 0.162\n"
          ]
        },
        {
          "output_type": "stream",
          "name": "stderr",
          "text": [
            "Epoch 57: 100%|██████████| 183/183 [00:04<00:00, 45.26it/s]\n"
          ]
        },
        {
          "output_type": "stream",
          "name": "stdout",
          "text": [
            "Loss: 0.128\n"
          ]
        },
        {
          "output_type": "stream",
          "name": "stderr",
          "text": [
            "Epoch 58: 100%|██████████| 183/183 [00:04<00:00, 45.06it/s]\n"
          ]
        },
        {
          "output_type": "stream",
          "name": "stdout",
          "text": [
            "Loss: 0.113\n"
          ]
        },
        {
          "output_type": "stream",
          "name": "stderr",
          "text": [
            "Epoch 59: 100%|██████████| 183/183 [00:04<00:00, 45.18it/s]\n"
          ]
        },
        {
          "output_type": "stream",
          "name": "stdout",
          "text": [
            "Loss: 0.132\n"
          ]
        }
      ]
    },
    {
      "cell_type": "markdown",
      "source": [
        "## Test the model\n",
        "\n",
        "Now that we have a trained model, we can test it on the test dataset and visualize its performance"
      ],
      "metadata": {
        "id": "0nm7Xd8CI3Js"
      }
    },
    {
      "cell_type": "code",
      "source": [
        "def plot_prediction(test_dataloader, y_pred, y_truth, node, config):\n",
        "    # Calculate the truth\n",
        "    s = y_truth.shape\n",
        "    y_truth = y_truth.reshape(s[0], config['BATCH_SIZE'], config['N_NODE'], s[-1])\n",
        "    # just get the first prediction out for the nth node\n",
        "    y_truth = y_truth[:, :, node, 0]\n",
        "    # Flatten to get the predictions for entire test dataset\n",
        "    y_truth = torch.flatten(y_truth)\n",
        "    day0_truth = y_truth[:config['N_SLOT']]\n",
        "\n",
        "\n",
        "    # Calculate the predicted\n",
        "    s = y_pred.shape\n",
        "    y_pred = y_pred.reshape(s[0], config['BATCH_SIZE'], config['N_NODE'], s[-1])\n",
        "    # just get the first prediction out for the nth node\n",
        "    y_pred = y_pred[:, :, node, 0]\n",
        "    # Flatten to get the predictions for entire test dataset\n",
        "    y_pred = torch.flatten(y_pred)\n",
        "    # Just grab the first day\n",
        "    day0_pred = y_pred[:config['N_SLOT']]\n",
        "    t = [t for t in range(0, config['N_SLOT']*5, 5)]\n",
        "    plt.plot(t, day0_pred, label='ST-GAT')\n",
        "    plt.plot(t, day0_truth, label='truth')\n",
        "    plt.xlabel('Time (minutes)')\n",
        "    plt.ylabel('Speed prediction')\n",
        "    plt.title('Predictions of traffic over time')\n",
        "    plt.legend()\n",
        "    plt.savefig('predicted_times.png')\n",
        "    plt.show()\n",
        "    \n",
        "_, _, _, y_pred, y_truth = eval(model, device, test_dataloader, 'Test')\n",
        "plot_prediction(test_dataloader, y_pred, y_truth, 0, config)"
      ],
      "metadata": {
        "colab": {
          "base_uri": "https://localhost:8080/"
        },
        "id": "9-_urKxjI2gQ",
        "outputId": "2bcd65c6-0d9a-4f72-d09c-df1c22c01701"
      },
      "execution_count": null,
      "outputs": [
        {
          "output_type": "stream",
          "name": "stdout",
          "text": [
            "Test, MAE: 3.848196268081665, RMSE: 6.299871921539307, MAPE: 9.210926055908203\n"
          ]
        },
        {
          "output_type": "display_data",
          "data": {
            "image/png": "[encoded data removed]",
            "text/plain": [
              "<Figure size 432x288 with 1 Axes>"
            ]
          },
          "metadata": {
            "needs_background": "light"
          }
        }
      ]
    },
    {
      "cell_type": "markdown",
      "source": [
        "## Rejoice\n",
        "\n",
        "We hope that you have found this colab informative and useful. Note that our final performance lags that published by the paper slightly, we believe this is due to small differences in training parameters and initializations that were not published with the paper."
      ],
      "metadata": {
        "id": "COGjouriMrDf"
      }
    }
  ]
}